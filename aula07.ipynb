{
 "cells": [
  {
   "cell_type": "code",
   "execution_count": 3,
   "metadata": {},
   "outputs": [
    {
     "name": "stdout",
     "output_type": "stream",
     "text": [
      "[1, 2, 3, 4, 5, 6, 7, 8, 9]\n"
     ]
    }
   ],
   "source": [
    "lista = [1,2,3,4,5,6,7,8,9]\n",
    "print(lista)\n",
    "lista.remove(2)"
   ]
  },
  {
   "cell_type": "code",
   "execution_count": 7,
   "metadata": {},
   "outputs": [
    {
     "name": "stdout",
     "output_type": "stream",
     "text": [
      "1º jona\n",
      "2º quadrado\n",
      "3º cabecudo\n",
      "4º negueba\n"
     ]
    }
   ],
   "source": [
    "# laços de repetição\n",
    "nome = ['jona', 'quadrado','cabecudo','negueba']\n",
    "\n",
    "for i, j in enumerate(nome):\n",
    "    print(f'{i+1}º {j}')"
   ]
  },
  {
   "cell_type": "code",
   "execution_count": 4,
   "metadata": {},
   "outputs": [
    {
     "name": "stdout",
     "output_type": "stream",
     "text": [
      "gomes 22\n"
     ]
    }
   ],
   "source": [
    "nome = 'gomes'\n",
    "idade = 22\n",
    "print(nome, idade)"
   ]
  },
  {
   "cell_type": "markdown",
   "metadata": {},
   "source": [
    "#cabeçalho\n",
    "###cabeçalho tamanho 3\n",
    "*italico*\n",
    "**negrito**\n",
    "**_negrito e italico_**\n",
    "\n",
    "1. primeiro item da lista\n",
    "2. segundo item da lista\n",
    "\n",
    "- lista sem ordem\n",
    "   - segundo item da lista sem ordem\n",
    "\n",
    "[texto do link](http://exemplo.com)\n",
    "![texto alternativo]()"
   ]
  }
 ],
 "metadata": {
  "kernelspec": {
   "display_name": "venv",
   "language": "python",
   "name": "python3"
  },
  "language_info": {
   "codemirror_mode": {
    "name": "ipython",
    "version": 3
   },
   "file_extension": ".py",
   "mimetype": "text/x-python",
   "name": "python",
   "nbconvert_exporter": "python",
   "pygments_lexer": "ipython3",
   "version": "3.12.5"
  }
 },
 "nbformat": 4,
 "nbformat_minor": 2
}
