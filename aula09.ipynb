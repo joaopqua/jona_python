{
 "cells": [
  {
   "cell_type": "code",
   "execution_count": null,
   "metadata": {},
   "outputs": [],
   "source": [
    "Aula de String"
   ]
  },
  {
   "cell_type": "code",
   "execution_count": 11,
   "metadata": {},
   "outputs": [
    {
     "name": "stdout",
     "output_type": "stream",
     "text": [
      "JONA ANOJ\n",
      "nao é um palindromo\n",
      "['JONA']\n"
     ]
    }
   ],
   "source": [
    "frase = str(input('digite uma palavra ou frase: ')).strip().upper()\n",
    "\n",
    "palavras = frase.split()\n",
    "caractere = ''.join(palavras)\n",
    "\n",
    "fraseinvertida = ''\n",
    "\n",
    "for i in range(len(caractere) -1, -1, -1):\n",
    "    fraseinvertida += caractere[i]\n",
    "\n",
    "print(caractere, fraseinvertida)\n",
    "\n",
    "if fraseinvertida == caractere:\n",
    "    print('é um palindromo')\n",
    "else:\n",
    "    print('nao é um palindromo')\n",
    "\n",
    "print(palavras)\n"
   ]
  },
  {
   "cell_type": "code",
   "execution_count": null,
   "metadata": {},
   "outputs": [],
   "source": [
    "cpf = input('digite seu cpf: ').replace('-', '*').replace('.', '*')\n",
    "print(cpf)\n"
   ]
  },
  {
   "cell_type": "code",
   "execution_count": 4,
   "metadata": {},
   "outputs": [
    {
     "name": "stdout",
     "output_type": "stream",
     "text": [
      "cpf: 123.456.789-11\n"
     ]
    }
   ],
   "source": [
    "cpf = input('digite seu cpf: ')\n",
    "print(f'cpf: {cpf[:3]}.{cpf[3:6]}.{cpf[6:9]}-{cpf[9:]}')\n"
   ]
  },
  {
   "cell_type": "code",
   "execution_count": 5,
   "metadata": {},
   "outputs": [
    {
     "name": "stdout",
     "output_type": "stream",
     "text": [
      "{'pao': 'R$ 1,99', 'açucar': 'R$ 4,99', 'cafe': 'R$ 8,99', 'macarrao': 'R$ 12,00', 'carne': 'R$ 24,99'}\n"
     ]
    }
   ],
   "source": [
    "dicionario = dict(\n",
    "   \n",
    "    pao = 'R$ 1,99',\n",
    "    açucar = 'R$ 4,99',\n",
    "    cafe = 'R$ 8,99',\n",
    "    macarrao = 'R$ 12,00',\n",
    "    carne = 'R$ 24,99'\n",
    "\n",
    ")\n",
    "\n",
    "print(dicionario)"
   ]
  },
  {
   "cell_type": "code",
   "execution_count": 10,
   "metadata": {},
   "outputs": [
    {
     "name": "stdout",
     "output_type": "stream",
     "text": [
      "chocolate\n",
      "dict_values(['chocolate', 5.0, 10])\n",
      "dict_items([('nome', 'chocolate'), ('preço', 5.0), ('estoque', 10)])\n"
     ]
    }
   ],
   "source": [
    "#criando o dicionario de produtos\n",
    "produtos = {\n",
    "    #chave\n",
    "    101: {'nome' : 'chocolate', 'preço' : 5.00, 'estoque' : 10},\n",
    "    \n",
    "    102: {'nome' : 'pao', 'preço' : 3.00, 'estoque' : 100},\n",
    "\n",
    "    103: {'nome' : 'biscoito', 'preço' : 5.00, 'estoque' : 50}\n",
    "\n",
    "}\n",
    "#mostrando o codigo e as informacoes de todos itens\n",
    "'''for codigo, info in produtos.items():\n",
    "    print(f'codigo:{codigo}')\n",
    "    print(f'nome:{info['nome']}')\n",
    "    print(f'preço:{info['preço']}')\n",
    "    print(f'estoque:{info['estoque']}')\n",
    "'''\n",
    "\n",
    "print(produtos[101]['nome'])\n",
    "print(produtos[101].values()) #traz somente os valores\n",
    "print(produtos[101].items()) #traz o resultado dos itens\n"
   ]
  }
 ],
 "metadata": {
  "kernelspec": {
   "display_name": "venv",
   "language": "python",
   "name": "python3"
  },
  "language_info": {
   "codemirror_mode": {
    "name": "ipython",
    "version": 3
   },
   "file_extension": ".py",
   "mimetype": "text/x-python",
   "name": "python",
   "nbconvert_exporter": "python",
   "pygments_lexer": "ipython3",
   "version": "3.12.6"
  }
 },
 "nbformat": 4,
 "nbformat_minor": 2
}
